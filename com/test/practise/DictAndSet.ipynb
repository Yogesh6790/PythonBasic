{
 "cells": [
  {
   "cell_type": "markdown",
   "metadata": {},
   "source": [
    "# Check if Dict is empty"
   ]
  },
  {
   "cell_type": "code",
   "execution_count": 84,
   "metadata": {},
   "outputs": [
    {
     "name": "stdout",
     "output_type": "stream",
     "text": [
      "['Andhra Pradesh', 'Tamilnadu']\n",
      "{'Tamilnadu': 'TN', 'Andhra Pradesh': 'AP'}\n",
      "2\n",
      "{'Tamilnadu': 'TN', 'Andhra Pradesh': 'AP', 'Kerala': 'KE', 'Karnataka': 'Ka'}\n",
      "states is not empty\n",
      "{'Tamilnadu': 'TN', 'Andhra Pradesh': 'AP', 'Kerala': 'KE', 'Karnataka': 'Ka'}\n",
      "True\n",
      "{}\n",
      "0\n",
      "states is empty\n"
     ]
    }
   ],
   "source": [
    "states = {'Tamilnadu': 'TN', 'Andhra Pradesh': 'AP'}\n",
    "states_c = sorted(states)\n",
    "print(states_c)\n",
    "print(states)\n",
    "print(len(states))\n",
    "states.update({'Kerala': 'KE', 'Karnataka':'Ka'})\n",
    "print(states)\n",
    "if states:\n",
    "    print('states is not empty')\n",
    "else:\n",
    "    print('states is empty')\n",
    "\n",
    "states_2 = states.copy()\n",
    "print(states_2)\n",
    "print(states_2 == states)\n",
    "states.clear()\n",
    "print(states)\n",
    "print(len(states))\n",
    "\n",
    "if states:\n",
    "    print('states is not empty')\n",
    "else:\n",
    "    print('states is empty')\n",
    "    \n",
    "    "
   ]
  },
  {
   "cell_type": "markdown",
   "metadata": {},
   "source": [
    "### Iteration of Dict"
   ]
  },
  {
   "cell_type": "markdown",
   "metadata": {},
   "source": []
  },
  {
   "cell_type": "code",
   "execution_count": 14,
   "metadata": {},
   "outputs": [
    {
     "name": "stdout",
     "output_type": "stream",
     "text": [
      "Tamilnadu TN\n",
      "Andhra Pradesh AP\n",
      "Tamilnadu = TN\n",
      "Andhra Pradesh = AP\n",
      "\n",
      "Tamilnadu = TN\n",
      "Andhra Pradesh = AP\n",
      "TN\n",
      "AP\n"
     ]
    }
   ],
   "source": [
    "states = {'Tamilnadu': 'TN', 'Andhra Pradesh': 'AP'}\n",
    "\n",
    "for name, code in states.items():\n",
    "    print(f'{name} {code}')\n",
    "\n",
    "for key in states.keys():\n",
    "    print(f'{key} = {states[key]}')\n",
    "print()\n",
    "for key in states:\n",
    "    print(f'{key} = {states[key]}')\n",
    "\n",
    "for value in states.values():\n",
    "    print(f'{value}')"
   ]
  },
  {
   "cell_type": "markdown",
   "metadata": {},
   "source": [
    "## Retrieving element from Dict"
   ]
  },
  {
   "cell_type": "code",
   "execution_count": 7,
   "metadata": {},
   "outputs": [
    {
     "name": "stdout",
     "output_type": "stream",
     "text": [
      "TN\n",
      "AP\n",
      "None\n"
     ]
    }
   ],
   "source": [
    "states = {'Tamilnadu': 'TN', 'Andhra Pradesh': 'AP'}\n",
    "\n",
    "print(states['Tamilnadu'])\n",
    "print(states.get('Andhra Pradesh'))\n",
    "print(states.get('Punjab'))"
   ]
  },
  {
   "cell_type": "markdown",
   "metadata": {},
   "source": [
    "## Creating List from Dict "
   ]
  },
  {
   "cell_type": "code",
   "execution_count": 10,
   "metadata": {},
   "outputs": [
    {
     "name": "stdout",
     "output_type": "stream",
     "text": [
      "['I', 'II', 'III', 'V', 'X']\n",
      "[1, 2, 3, 5, 10]\n",
      "[('I', 1), ('II', 2), ('III', 3), ('V', 5), ('X', 10)]\n"
     ]
    }
   ],
   "source": [
    "roman_numerals = {'I': 1, 'II': 2, 'III': 3, 'V': 5, 'X': 10}\n",
    "print(list(roman_numerals.keys()))\n",
    "print(list(roman_numerals.values()))\n",
    "print(list(roman_numerals.items())) #creates list of tuples"
   ]
  },
  {
   "cell_type": "markdown",
   "metadata": {},
   "source": [
    "## Sorted"
   ]
  },
  {
   "cell_type": "code",
   "execution_count": 104,
   "metadata": {},
   "outputs": [
    {
     "name": "stdout",
     "output_type": "stream",
     "text": [
      "[('Chatresh', 1), ('Sowmiyha', 3), ('Yogesh', 2)]\n",
      "['Chatresh', 'Sowmiyha', 'Yogesh']\n",
      "[1, 2, 3]\n",
      "3\n"
     ]
    }
   ],
   "source": [
    "roman_numerals = {'Sowmiyha': 3, 'Yogesh': 2, 'Chatresh': 1}\n",
    "print(sorted(roman_numerals.items()))\n",
    "print(sorted(roman_numerals.keys()))\n",
    "print(sorted(roman_numerals.values()))\n",
    "dict_1 = {1:'1',2:'hello'}\n",
    "print(sum(dict_1))"
   ]
  },
  {
   "cell_type": "code",
   "execution_count": 26,
   "metadata": {},
   "outputs": [
    {
     "name": "stdout",
     "output_type": "stream",
     "text": [
      "[1, 5, 4, 5, 3, 1, 3, 1, 2, 1, 5, 2, 1, 1, 4, 4, 5, 2, 5, 4, 5, 5, 4, 1, 1, 5, 1, 4, 5, 2, 5, 1, 4, 4, 4, 5, 4, 2, 2, 3, 4, 1, 2, 2, 3, 5, 5, 5, 4, 5]\n",
      "Counter({5: 15, 4: 12, 1: 11, 2: 8, 3: 4})\n",
      "{1: 11, 5: 15, 4: 12, 3: 4, 2: 8}\n",
      "True\n",
      "1  11\n",
      "2  8\n",
      "3  4\n",
      "4  12\n",
      "5  15\n"
     ]
    }
   ],
   "source": [
    "import random\n",
    "import collections\n",
    "\n",
    "random_numbers = []\n",
    "\n",
    "\n",
    "for index in range(50):\n",
    "    random_numbers.append(random.randrange(1,6));\n",
    "print(random_numbers)\n",
    "\n",
    "random_numbers_dict = collections.Counter(random_numbers)\n",
    "print(random_numbers_dict)\n",
    "\n",
    "random_numbers_dict_2 = {}\n",
    "\n",
    "for val in random_numbers:\n",
    "    if(random_numbers_dict_2.get(val)):\n",
    "        current_val = random_numbers_dict_2.get(val)\n",
    "        random_numbers_dict_2[val] = current_val+1\n",
    "    else:\n",
    "        random_numbers_dict_2[val] = 1\n",
    "\n",
    "print(random_numbers_dict_2)\n",
    "print(random_numbers_dict == random_numbers_dict_2)\n",
    "\n",
    "for num, count in sorted(random_numbers_dict.items()):\n",
    "    print(f'{num:<3}{count}')"
   ]
  },
  {
   "cell_type": "markdown",
   "metadata": {},
   "source": [
    "## Dictionary Comprehension "
   ]
  },
  {
   "cell_type": "code",
   "execution_count": 28,
   "metadata": {},
   "outputs": [
    {
     "name": "stdout",
     "output_type": "stream",
     "text": [
      "{1: 1, 2: 8, 3: 27, 4: 64, 5: 125}\n"
     ]
    }
   ],
   "source": [
    "cube_numbers = {num : num ** 3 for num in range(1,6)}\n",
    "print(cube_numbers)"
   ]
  },
  {
   "cell_type": "markdown",
   "metadata": {},
   "source": [
    "## MIN/MAX"
   ]
  },
  {
   "cell_type": "code",
   "execution_count": 68,
   "metadata": {},
   "outputs": [
    {
     "name": "stdout",
     "output_type": "stream",
     "text": [
      "Bombay\n",
      "bengaluru\n",
      "6\n"
     ]
    }
   ],
   "source": [
    "names = {'Yellow':'Y', 'Bombay':'B','Delhi':'D','bengaluru':'b'}\n",
    "print(min(names))\n",
    "print(min(names, key=lambda s: s.lower()))"
   ]
  },
  {
   "cell_type": "markdown",
   "metadata": {},
   "source": [
    "# Set"
   ]
  },
  {
   "cell_type": "code",
   "execution_count": 29,
   "metadata": {},
   "outputs": [
    {
     "name": "stdout",
     "output_type": "stream",
     "text": [
      "{'not', 'to', 'the', 'or', 'is', 'question', 'be'}\n",
      "{'not', 'to', 'the', 'or', 'is', 'question', 'be'}\n"
     ]
    }
   ],
   "source": [
    "text = 'to be or not to be is the question'\n",
    "print(set(text.split()))\n",
    "print(set(text.split(\" \")))"
   ]
  },
  {
   "cell_type": "markdown",
   "metadata": {},
   "source": [
    "## Subset and Superset "
   ]
  },
  {
   "cell_type": "code",
   "execution_count": 73,
   "metadata": {},
   "outputs": [
    {
     "name": "stdout",
     "output_type": "stream",
     "text": [
      "{'c', 'e', 'i', 'o', 'k', ' ', 'n', 'g', 'f', 'a', 'l', 'm', 'd', 'j', 'h', 'b'}\n",
      "True\n",
      "True\n",
      "True\n",
      "True\n",
      "\n",
      "True\n",
      "True\n",
      "True\n",
      "True\n"
     ]
    }
   ],
   "source": [
    "print(set(list('abc def ghi jkl mno')))\n",
    "print(set(list('abc def ghi jkl mno')).issuperset(set(list('hi mom'))))\n",
    "print(set('abc def ghi jkl mno').issuperset(set('hi mom')))\n",
    "print(set('abc def ghi jkl mno').issuperset('hi mom'))\n",
    "print(set(list('abc def ghi jkl mno')) >= set(list('hi mom')))\n",
    "print()\n",
    "print(set(list('hi mom')).issubset(set(list('abc def ghi jkl mno'))))\n",
    "print(set('hi mom').issubset(set('abc def ghi jkl mno')))\n",
    "print(set('hi mom').issubset('abc def ghi jkl mno'))\n",
    "print(set(list('hi mom')) <= set(list('abc def ghi jkl mno')))"
   ]
  },
  {
   "cell_type": "markdown",
   "metadata": {},
   "source": [
    "## Mathematical Operations "
   ]
  },
  {
   "cell_type": "code",
   "execution_count": 81,
   "metadata": {},
   "outputs": [
    {
     "ename": "TypeError",
     "evalue": "'set' object is not reversible",
     "output_type": "error",
     "traceback": [
      "\u001b[0;31m---------------------------------------------------------------------------\u001b[0m",
      "\u001b[0;31mTypeError\u001b[0m                                 Traceback (most recent call last)",
      "\u001b[0;32m<ipython-input-81-03023e92e91b>\u001b[0m in \u001b[0;36m<module>\u001b[0;34m\u001b[0m\n\u001b[1;32m      1\u001b[0m \u001b[0mset_1\u001b[0m \u001b[0;34m=\u001b[0m \u001b[0;34m{\u001b[0m\u001b[0;36m10\u001b[0m\u001b[0;34m,\u001b[0m \u001b[0;36m20\u001b[0m\u001b[0;34m,\u001b[0m \u001b[0;36m30\u001b[0m\u001b[0;34m}\u001b[0m\u001b[0;34m\u001b[0m\u001b[0;34m\u001b[0m\u001b[0m\n\u001b[1;32m      2\u001b[0m \u001b[0mset_2\u001b[0m \u001b[0;34m=\u001b[0m \u001b[0;34m{\u001b[0m\u001b[0;36m5\u001b[0m\u001b[0;34m,\u001b[0m \u001b[0;36m10\u001b[0m\u001b[0;34m,\u001b[0m \u001b[0;36m15\u001b[0m\u001b[0;34m,\u001b[0m \u001b[0;36m20\u001b[0m\u001b[0;34m}\u001b[0m\u001b[0;34m\u001b[0m\u001b[0;34m\u001b[0m\u001b[0m\n\u001b[0;32m----> 3\u001b[0;31m \u001b[0mset_3\u001b[0m \u001b[0;34m=\u001b[0m \u001b[0mreversed\u001b[0m\u001b[0;34m(\u001b[0m\u001b[0mset_1\u001b[0m\u001b[0;34m)\u001b[0m\u001b[0;34m\u001b[0m\u001b[0;34m\u001b[0m\u001b[0m\n\u001b[0m\u001b[1;32m      4\u001b[0m \u001b[0mprint\u001b[0m\u001b[0;34m(\u001b[0m\u001b[0mset_3\u001b[0m\u001b[0;34m)\u001b[0m\u001b[0;34m\u001b[0m\u001b[0;34m\u001b[0m\u001b[0m\n\u001b[1;32m      5\u001b[0m \u001b[0mprint\u001b[0m\u001b[0;34m(\u001b[0m\u001b[0mset_1\u001b[0m \u001b[0;34m-\u001b[0m \u001b[0mset_2\u001b[0m\u001b[0;34m)\u001b[0m\u001b[0;34m\u001b[0m\u001b[0;34m\u001b[0m\u001b[0m\n",
      "\u001b[0;31mTypeError\u001b[0m: 'set' object is not reversible"
     ]
    }
   ],
   "source": [
    "set_1 = {10, 20, 30}\n",
    "set_2 = {5, 10, 15, 20}\n",
    "print(set_3)\n",
    "print(set_1 - set_2)\n",
    "print(set_1 ^ set_2)\n",
    "print(set_1 | set_2)\n",
    "print(set_1 & set_2)"
   ]
  },
  {
   "cell_type": "markdown",
   "metadata": {},
   "source": [
    "## MIN/MAX"
   ]
  },
  {
   "cell_type": "code",
   "execution_count": 77,
   "metadata": {},
   "outputs": [
    {
     "name": "stdout",
     "output_type": "stream",
     "text": [
      "Bombay\n",
      "bengaluru\n"
     ]
    }
   ],
   "source": [
    "names = {'Yellow', 'Bombay','Delhi','bengaluru'}\n",
    "print(min(names))\n",
    "print(min(names, key=lambda s: s.lower()))"
   ]
  },
  {
   "cell_type": "markdown",
   "metadata": {},
   "source": [
    "## Set Comprehension "
   ]
  },
  {
   "cell_type": "code",
   "execution_count": 102,
   "metadata": {},
   "outputs": [
    {
     "name": "stdout",
     "output_type": "stream",
     "text": [
      "{1, 2, 3, 4, 6, 7, 8, 9, 10}\n",
      "34\n",
      "True\n",
      "{2, 4, 6, 8, 10}\n",
      "30\n"
     ]
    }
   ],
   "source": [
    "list_numbers = [1, 1, 1, 2, 3, 3, 4, 7, 8, 9, 6, 10, 10, 6, 10]\n",
    "set_1 = set(list_numbers)\n",
    "set_2 = {11,23}\n",
    "print(set_1)\n",
    "print(sum(set_2))\n",
    "print(set_1.isdisjoint(set_2))\n",
    "print({num for num in list_numbers if num%2 == 0})\n",
    "print(sum(set({num for num in list_numbers if num%2 == 0})))"
   ]
  },
  {
   "cell_type": "code",
   "execution_count": 54,
   "metadata": {},
   "outputs": [
    {
     "name": "stdout",
     "output_type": "stream",
     "text": [
      "{1} 4564941952\n",
      "{1} 4564940752\n",
      "{1: 1} 4573914528\n",
      "{1: 1} 4573911632\n"
     ]
    }
   ],
   "source": [
    "dict_1 = {1:1}\n",
    "set_1 = {1}\n",
    "set_2 = set_1.copy()\n",
    "dict_2 = dict_1.copy()\n",
    "print(set_1, id(set_1))\n",
    "print(set_2, id(set_2))\n",
    "print(dict_1, id(dict_1))\n",
    "print(dict_2, id(dict_2))"
   ]
  }
 ],
 "metadata": {
  "kernelspec": {
   "display_name": "Python 3",
   "language": "python",
   "name": "python3"
  },
  "language_info": {
   "codemirror_mode": {
    "name": "ipython",
    "version": 3
   },
   "file_extension": ".py",
   "mimetype": "text/x-python",
   "name": "python",
   "nbconvert_exporter": "python",
   "pygments_lexer": "ipython3",
   "version": "3.7.6"
  }
 },
 "nbformat": 4,
 "nbformat_minor": 4
}
