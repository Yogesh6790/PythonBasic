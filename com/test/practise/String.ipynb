{
 "cells": [
  {
   "cell_type": "markdown",
   "metadata": {},
   "source": [
    "## String Concatenation and Multiplication "
   ]
  },
  {
   "cell_type": "code",
   "execution_count": 6,
   "metadata": {},
   "outputs": [
    {
     "name": "stdout",
     "output_type": "stream",
     "text": [
      "*******************\n",
      "Yogesh Palayakaveri\n",
      "*******************\n"
     ]
    }
   ],
   "source": [
    "first_name = 'Yogesh'\n",
    "last_name = 'Palayakaveri'\n",
    "full_name = first_name + ' ' + last_name\n",
    "\n",
    "character_ast = '*'\n",
    "\n",
    "character_ast *= len(full_name)\n",
    "print(character_ast)\n",
    "print(full_name)\n",
    "print(character_ast)"
   ]
  },
  {
   "cell_type": "markdown",
   "metadata": {},
   "source": [
    "## String Stripping"
   ]
  },
  {
   "cell_type": "code",
   "execution_count": 11,
   "metadata": {},
   "outputs": [
    {
     "name": "stdout",
     "output_type": "stream",
     "text": [
      " This is an example sentence  = 29\n",
      "This is an example sentence = 27\n",
      "This is an example sentence  = 28\n",
      " This is an example sentence = 28\n"
     ]
    }
   ],
   "source": [
    "str = ' This is an example sentence '\n",
    "print(str, '=', len(str))\n",
    "print(str.strip(), '=' ,len(str.strip()))\n",
    "print(str.lstrip(), '=' ,len(str.lstrip()))\n",
    "print(str.rstrip(), '=' ,len(str.rstrip()))"
   ]
  },
  {
   "cell_type": "markdown",
   "metadata": {},
   "source": [
    "## Character case"
   ]
  },
  {
   "cell_type": "code",
   "execution_count": 14,
   "metadata": {},
   "outputs": [
    {
     "name": "stdout",
     "output_type": "stream",
     "text": [
      "Happy new year\n",
      "Happy New Year\n",
      "HAPPY NEW YEAR\n"
     ]
    }
   ],
   "source": [
    "test_string='happy new year'\n",
    "print(test_string.capitalize())\n",
    "print(test_string.title())\n",
    "print(test_string.upper())"
   ]
  },
  {
   "cell_type": "markdown",
   "metadata": {},
   "source": [
    "## Searching Substring"
   ]
  },
  {
   "cell_type": "code",
   "execution_count": 19,
   "metadata": {},
   "outputs": [
    {
     "name": "stdout",
     "output_type": "stream",
     "text": [
      "to to the 0 11 13 22 30 "
     ]
    }
   ],
   "source": [
    "test_string = 'to be or not to be is the question'\n",
    "test_string_list = test_string.split()\n",
    "\n",
    "for val in test_string_list:\n",
    "    if val.startswith('t'):\n",
    "        print(val, end= ' ')\n",
    "\n",
    "index = test_string.find('t')\n",
    "\n",
    "while index != -1:\n",
    "    print(index, end= ' ')\n",
    "    index  = test_string.find('t', index+1)"
   ]
  },
  {
   "cell_type": "markdown",
   "metadata": {},
   "source": [
    "## Replacing Substring"
   ]
  },
  {
   "cell_type": "code",
   "execution_count": 22,
   "metadata": {},
   "outputs": [
    {
     "name": "stdout",
     "output_type": "stream",
     "text": [
      "to->be->or->not->to->be->is->the->question\n"
     ]
    }
   ],
   "source": [
    "test_string = 'to be or not to be is the question'\n",
    "print(test_string.replace(' ','->'))"
   ]
  },
  {
   "cell_type": "markdown",
   "metadata": {},
   "source": [
    "## Splitting and Joining"
   ]
  },
  {
   "cell_type": "code",
   "execution_count": 26,
   "metadata": {},
   "outputs": [
    {
     "data": {
      "text/plain": [
       "'White, Pamela'"
      ]
     },
     "execution_count": 26,
     "metadata": {},
     "output_type": "execute_result"
    }
   ],
   "source": [
    "test_string='Pamela White'\n",
    "test_list = test_string.split()\n",
    "', '.join([test_list[1], test_list[0]])"
   ]
  },
  {
   "cell_type": "markdown",
   "metadata": {},
   "source": [
    "## Partition and rPartition"
   ]
  },
  {
   "cell_type": "code",
   "execution_count": 195,
   "metadata": {},
   "outputs": [
    {
     "name": "stdout",
     "output_type": "stream",
     "text": [
      "['www.yyy.com', 'books/PyCDS/table_of_contents.html']\n",
      "www.yyy.com\n",
      "books/PyCDS\n"
     ]
    }
   ],
   "source": [
    "url = 'http://www.yyy.com/books/PyCDS/table_of_contents.html'\n",
    "first, middle, last = url.partition('://')\n",
    "url_list = last.split('/',1)\n",
    "print(url_list)\n",
    "print(url_list[0])\n",
    "rem_url_begin, rem_url_middle, rem_url_end = url_list[1].rpartition('/')\n",
    "print(rem_url_begin)"
   ]
  },
  {
   "cell_type": "markdown",
   "metadata": {},
   "source": [
    "## Testing Method"
   ]
  },
  {
   "cell_type": "code",
   "execution_count": 41,
   "metadata": {},
   "outputs": [
    {
     "name": "stdout",
     "output_type": "stream",
     "text": [
      "'-27'.isdigit() ->  False\n",
      "'27'.isdigit() ->  True\n",
      "'27'.isnumeric() ->  True\n",
      "'ABC'.isalpha() ->  True\n",
      "'ABC'.isupper() ->  True\n",
      "'ABC'.islower() ->  False\n",
      "'abc'.islower() ->  True\n",
      "'abc123'.isalnum() ->  True\n"
     ]
    }
   ],
   "source": [
    "print(\"'-27'.isdigit() -> \",'-27'.isdigit())\n",
    "print(\"'27'.isdigit() -> \",'27'.isdigit())\n",
    "print(\"'27'.isnumeric() -> \",'27'.isnumeric())\n",
    "print(\"'ABC'.isalpha() -> \",'ABC'.isalpha())\n",
    "print(\"'ABC'.isupper() -> \",'ABC'.isupper())\n",
    "print(\"'ABC'.islower() -> \",'ABC'.islower())\n",
    "print(\"'abc'.islower() -> \",'abc'.islower())\n",
    "print(\"'abc123'.isalnum() -> \",'abc123'.isalnum())"
   ]
  },
  {
   "cell_type": "markdown",
   "metadata": {},
   "source": [
    "## Regular Expression"
   ]
  },
  {
   "cell_type": "code",
   "execution_count": 252,
   "metadata": {},
   "outputs": [
    {
     "name": "stdout",
     "output_type": "stream",
     "text": [
      "Match\n",
      "Match\n",
      "Match\n",
      "No Match\n"
     ]
    }
   ],
   "source": [
    "import re\n",
    "print('Match' if re.fullmatch(r'[0-9]* [A-Z][a-z]* [A-Z][a-z]*', '11 Main S') else 'No Match')\n",
    "print('Match' if re.fullmatch(r'labell?ed','labelled') else 'No Match') #? - 0 or 1\n",
    "print('Match' if re.fullmatch(r'labell?ed','labeled') else 'No Match')\n",
    "print('Match' if re.fullmatch(r'labell?ed','labellled') else 'No Match')"
   ]
  },
  {
   "cell_type": "markdown",
   "metadata": {},
   "source": [
    "## Regex - Splitting"
   ]
  },
  {
   "cell_type": "code",
   "execution_count": 253,
   "metadata": {},
   "outputs": [
    {
     "name": "stdout",
     "output_type": "stream",
     "text": [
      "Splitting String\n",
      "['1', '2', '3,4', '5,6,7,8']\n",
      "['1', '2', '3', '4', '5', '6', '7', '8']\n",
      "['1', '2', '3', '4', '5', '6', '7', '8']\n",
      "['1', '2', '3', '4', '5']\n",
      "<class 'list'>\n",
      "Replacing String\n",
      "1, 2, 3, 4, 5\n",
      "1, 2, 3, 4, , , , 5\n"
     ]
    }
   ],
   "source": [
    "print('Splitting String')\n",
    "print(re.split(r',\\s+','1, 2, 3,4,    5,6,7,8'))\n",
    "print(re.split(r',\\s*','1, 2, 3,4,    5,6,7,8'))\n",
    "print(re.split(r',\\s*','1, 2, 3,4,    5,6,7,8'))\n",
    "test_string = '1\\t2\\t3\\t4\\t\\t\\t\\t5'\n",
    "print(re.split(r'\\t+',test_string))\n",
    "print(type(re.split(r'\\t+',test_string)))\n",
    "print('Replacing String')\n",
    "print(re.sub(r'\\t+', ', ', test_string))\n",
    "print(test_string.replace('\\t',', '))\n"
   ]
  },
  {
   "cell_type": "markdown",
   "metadata": {},
   "source": [
    "## Searching"
   ]
  },
  {
   "cell_type": "code",
   "execution_count": 89,
   "metadata": {},
   "outputs": [
    {
     "name": "stdout",
     "output_type": "stream",
     "text": [
      "True\n",
      "False\n",
      "\n",
      "*** Search Function ***\n",
      "Python\n",
      "\n",
      "*** Search Function in Begin ***\n",
      "Python\n",
      "\n",
      "*** Search Function in End ***\n",
      "Not found\n",
      "\n",
      "Change the checking string\n",
      "fun\n"
     ]
    }
   ],
   "source": [
    "print('Python' in 'Python is fun')\n",
    "print('PYTHON' in 'Python is fun')\n",
    "print()\n",
    "print('*** Search Function ***')\n",
    "result = re.search('PYTHON', 'Python is fun', flags=re.IGNORECASE)\n",
    "print(result.group()) if result else print('Not found')\n",
    "\n",
    "print()\n",
    "print('*** Search Function in Begin ***')\n",
    "result = re.search('^PYTHON', 'Python is fun', flags=re.IGNORECASE)\n",
    "print(result.group()) if result else print('Not found')\n",
    "\n",
    "print()\n",
    "print('*** Search Function in End ***')\n",
    "result = re.search('PYTHON$', 'Python is fun', flags=re.IGNORECASE)\n",
    "print(result.group()) if result else print('Not found')\n",
    "print()\n",
    "\n",
    "print('Change the checking string')\n",
    "result = re.search('FUN$', 'Python is fun', flags=re.IGNORECASE)\n",
    "print(result.group()) if result else print('Not found')"
   ]
  },
  {
   "cell_type": "markdown",
   "metadata": {},
   "source": [
    "## FINDALL"
   ]
  },
  {
   "cell_type": "code",
   "execution_count": 108,
   "metadata": {},
   "outputs": [
    {
     "name": "stdout",
     "output_type": "stream",
     "text": [
      "['111-222-4343', '222-543-8790', '775-665-8888']\n"
     ]
    }
   ],
   "source": [
    "contact_numbers = 'Yogesh, Chatresh: 111-222-4343, Sowmiyha: 222-543-8790, 775-665-8888'\n",
    "print(re.findall(r'[0-9]{3}-[0-9]{3}-\\d{4}', contact_numbers))"
   ]
  },
  {
   "cell_type": "markdown",
   "metadata": {},
   "source": [
    "## Capturing SubString with a Match"
   ]
  },
  {
   "cell_type": "code",
   "execution_count": 117,
   "metadata": {},
   "outputs": [
    {
     "name": "stdout",
     "output_type": "stream",
     "text": [
      "Yogesh Pal, email: yogesh@gmail.com\n",
      "Yogesh Pal - yogesh@gmail.com\n"
     ]
    }
   ],
   "source": [
    "text = 'Yogesh Pal, email: yogesh@gmail.com'\n",
    "pattern = r'([A-Z][a-z]+ [A-Z][a-z]+), email: (\\w+@\\w+\\.\\w{3})'\n",
    "result = re.search(pattern, text)\n",
    "print(result.group())\n",
    "print(result.groups()[0], '-' ,result.groups()[1])"
   ]
  },
  {
   "cell_type": "code",
   "execution_count": 119,
   "metadata": {},
   "outputs": [
    {
     "name": "stdout",
     "output_type": "stream",
     "text": [
      "('10', '+', '5')\n"
     ]
    }
   ],
   "source": [
    "test_string = '10 + 5'\n",
    "pattern = r'(\\d+) ([+*-/]) ([0-9]+)'\n",
    "result = re.search(pattern, test_string)\n",
    "print(result.groups())"
   ]
  },
  {
   "cell_type": "code",
   "execution_count": 120,
   "metadata": {},
   "outputs": [
    {
     "data": {
      "text/plain": [
       "'A'"
      ]
     },
     "execution_count": 120,
     "metadata": {},
     "output_type": "execute_result"
    }
   ],
   "source": [
    "chr(65)"
   ]
  },
  {
   "cell_type": "code",
   "execution_count": 124,
   "metadata": {},
   "outputs": [
    {
     "name": "stdout",
     "output_type": "stream",
     "text": [
      "0\n",
      "0.5\n"
     ]
    }
   ],
   "source": [
    "print(1//2)\n",
    "print(1/2)"
   ]
  },
  {
   "cell_type": "code",
   "execution_count": 129,
   "metadata": {},
   "outputs": [
    {
     "data": {
      "text/plain": [
       "4"
      ]
     },
     "execution_count": 129,
     "metadata": {},
     "output_type": "execute_result"
    }
   ],
   "source": [
    "(bin(2)+bin(7)).count('1')"
   ]
  },
  {
   "cell_type": "code",
   "execution_count": 130,
   "metadata": {},
   "outputs": [
    {
     "data": {
      "text/plain": [
       "2.0"
      ]
     },
     "execution_count": 130,
     "metadata": {},
     "output_type": "execute_result"
    }
   ],
   "source": [
    "abs(2.0)\n",
    "\n"
   ]
  },
  {
   "cell_type": "code",
   "execution_count": 131,
   "metadata": {},
   "outputs": [
    {
     "data": {
      "text/plain": [
       "2"
      ]
     },
     "execution_count": 131,
     "metadata": {},
     "output_type": "execute_result"
    }
   ],
   "source": [
    "abs(2)"
   ]
  },
  {
   "cell_type": "code",
   "execution_count": 133,
   "metadata": {},
   "outputs": [
    {
     "data": {
      "text/plain": [
       "22"
      ]
     },
     "execution_count": 133,
     "metadata": {},
     "output_type": "execute_result"
    }
   ],
   "source": [
    "check = abs(-22)\n",
    "check"
   ]
  },
  {
   "cell_type": "code",
   "execution_count": 134,
   "metadata": {},
   "outputs": [
    {
     "data": {
      "text/plain": [
       "int"
      ]
     },
     "execution_count": 134,
     "metadata": {},
     "output_type": "execute_result"
    }
   ],
   "source": [
    "type(check)"
   ]
  },
  {
   "cell_type": "code",
   "execution_count": 139,
   "metadata": {},
   "outputs": [
    {
     "name": "stdout",
     "output_type": "stream",
     "text": [
      "<class 'float'>\n",
      "<class 'int'>\n"
     ]
    }
   ],
   "source": [
    "val = max(1.1,2.1)\n",
    "print(type(val))\n",
    "val = max(1,2)\n",
    "print(type(val))"
   ]
  },
  {
   "cell_type": "code",
   "execution_count": 143,
   "metadata": {},
   "outputs": [
    {
     "data": {
      "text/plain": [
       "int"
      ]
     },
     "execution_count": 143,
     "metadata": {},
     "output_type": "execute_result"
    }
   ],
   "source": [
    "import math\n",
    "type(math.floor(2.7))"
   ]
  },
  {
   "cell_type": "code",
   "execution_count": 145,
   "metadata": {},
   "outputs": [
    {
     "data": {
      "text/plain": [
       "-1"
      ]
     },
     "execution_count": 145,
     "metadata": {},
     "output_type": "execute_result"
    }
   ],
   "source": [
    "str = '11'\n",
    "str.find('1',3)"
   ]
  },
  {
   "cell_type": "code",
   "execution_count": 146,
   "metadata": {},
   "outputs": [
    {
     "data": {
      "text/plain": [
       "True"
      ]
     },
     "execution_count": 146,
     "metadata": {},
     "output_type": "execute_result"
    }
   ],
   "source": [
    "'1'.isdigit()"
   ]
  },
  {
   "cell_type": "code",
   "execution_count": 254,
   "metadata": {},
   "outputs": [
    {
     "name": "stdout",
     "output_type": "stream",
     "text": [
      "0 a\n",
      "1 b\n",
      "2 c\n"
     ]
    }
   ],
   "source": [
    "for index, val in enumerate('abc'):\n",
    "    print(index, val)"
   ]
  },
  {
   "cell_type": "code",
   "execution_count": 186,
   "metadata": {},
   "outputs": [
    {
     "name": "stdout",
     "output_type": "stream",
     "text": [
      "dict_items([(1000, 'M'), (900, 'CM'), (500, 'D'), (400, 'CD'), (100, 'C'), (90, 'XC'), (50, 'L'), (40, 'XL'), (10, 'X'), (9, 'IX'), (5, 'V'), (4, 'IV'), (1, 'I')])\n"
     ]
    }
   ],
   "source": [
    "dict_roman_to_int = {1000:'M',900:'CM',500:'D',400:'CD',100:'C',\n",
    "                             90:'XC',50:'L', 40:'XL',10:'X',9:'IX',5:'V',\n",
    "                             4:'IV',1:'I'}\n",
    "print(dict_roman_to_int.items())"
   ]
  },
  {
   "cell_type": "code",
   "execution_count": 211,
   "metadata": {},
   "outputs": [
    {
     "name": "stdout",
     "output_type": "stream",
     "text": [
      "3\n",
      "3\n"
     ]
    }
   ],
   "source": [
    "print('012011101'.find('01', 3, 5))\n",
    "print('012011101'.count('01', 0))"
   ]
  },
  {
   "cell_type": "code",
   "execution_count": 203,
   "metadata": {},
   "outputs": [
    {
     "data": {
      "text/plain": [
       "'0123456789'"
      ]
     },
     "execution_count": 203,
     "metadata": {},
     "output_type": "execute_result"
    }
   ],
   "source": [
    "import string\n",
    "string.digits"
   ]
  },
  {
   "cell_type": "code",
   "execution_count": 258,
   "metadata": {},
   "outputs": [
    {
     "data": {
      "text/plain": [
       "'2'"
      ]
     },
     "execution_count": 258,
     "metadata": {},
     "output_type": "execute_result"
    }
   ],
   "source": [
    "'12'[1:]"
   ]
  },
  {
   "cell_type": "code",
   "execution_count": 221,
   "metadata": {},
   "outputs": [
    {
     "data": {
      "text/plain": [
       "True"
      ]
     },
     "execution_count": 221,
     "metadata": {},
     "output_type": "execute_result"
    }
   ],
   "source": [
    "any(s in {'3', '4', '7'} for s in '3')"
   ]
  },
  {
   "cell_type": "code",
   "execution_count": 255,
   "metadata": {},
   "outputs": [
    {
     "name": "stdout",
     "output_type": "stream",
     "text": [
      "where are you?\n"
     ]
    }
   ],
   "source": [
    "x = 'you?'\n",
    "print(f'where are {x}')"
   ]
  }
 ],
 "metadata": {
  "kernelspec": {
   "display_name": "Python 3",
   "language": "python",
   "name": "python3"
  },
  "language_info": {
   "codemirror_mode": {
    "name": "ipython",
    "version": 3
   },
   "file_extension": ".py",
   "mimetype": "text/x-python",
   "name": "python",
   "nbconvert_exporter": "python",
   "pygments_lexer": "ipython3",
   "version": "3.7.6"
  }
 },
 "nbformat": 4,
 "nbformat_minor": 4
}
