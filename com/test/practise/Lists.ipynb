{
 "cells": [
  {
   "cell_type": "code",
   "execution_count": 54,
   "metadata": {},
   "outputs": [
    {
     "name": "stdout",
     "output_type": "stream",
     "text": [
      "1 16 81 256 625 1296 2401 4096 6561 None\n",
      "[1, 4, 9, 16, 25, 36, 49, 64, 81]\n",
      "4\n"
     ]
    }
   ],
   "source": [
    "def cube_list(numbers):\n",
    "    for num in numbers:\n",
    "        print(num ** 2, end = ' ')\n",
    "\n",
    "list_2 = list(map(lambda x: x ** 2, list(range(1,10))))\n",
    "    \n",
    "print(cube_list(list_2))\n",
    "print(list_2)\n",
    "print(list_2.index(25))"
   ]
  },
  {
   "cell_type": "code",
   "execution_count": 34,
   "metadata": {},
   "outputs": [
    {
     "name": "stdout",
     "output_type": "stream",
     "text": [
      "['B', 'i', 'r', 't', 'h', 'd', 'a', 'y']\n"
     ]
    }
   ],
   "source": [
    "characters = []\n",
    "characters += 'Birthday'\n",
    "print(characters)"
   ]
  },
  {
   "cell_type": "code",
   "execution_count": 3,
   "metadata": {},
   "outputs": [
    {
     "data": {
      "text/plain": [
       "(123.45,)"
      ]
     },
     "execution_count": 3,
     "metadata": {},
     "output_type": "execute_result"
    }
   ],
   "source": [
    "single_tuple = (123.45, )\n",
    "single_tuple"
   ]
  },
  {
   "cell_type": "code",
   "execution_count": 27,
   "metadata": {},
   "outputs": [
    {
     "data": {
      "text/plain": [
       "[1, 2, 3, 4, 5, 6, (1, 2)]"
      ]
     },
     "execution_count": 27,
     "metadata": {},
     "output_type": "execute_result"
    }
   ],
   "source": [
    "list_1 = [1, 2, 3]\n",
    "tuple_1 = (4, 5, 6)\n",
    "\n",
    "list_1 += tuple_1\n",
    "list_1.append((1,2))\n",
    "list_1"
   ]
  },
  {
   "cell_type": "markdown",
   "metadata": {},
   "source": [
    "## Reversing a list"
   ]
  },
  {
   "cell_type": "code",
   "execution_count": 30,
   "metadata": {},
   "outputs": [
    {
     "name": "stdout",
     "output_type": "stream",
     "text": [
      "[0, 2, 1]\n",
      "[1, 2, 4]\n",
      "4 2 1 <list_reverseiterator object at 0x10388aa10>\n"
     ]
    }
   ],
   "source": [
    "numbers = [1, 2, 4]\n",
    "\n",
    "numbers_2 = numbers[::-1] # or numbers[-1:-4:-1]\n",
    "\n",
    "numbers_2[0] = 0\n",
    "print(numbers_2)\n",
    "print(numbers)\n",
    "\n",
    "reversed_numbers = reversed(numbers)\n",
    "for val in reversed_numbers:\n",
    "    print(val, end= ' ')"
   ]
  },
  {
   "cell_type": "markdown",
   "metadata": {},
   "source": [
    "## Slicing operation"
   ]
  },
  {
   "cell_type": "code",
   "execution_count": 37,
   "metadata": {},
   "outputs": [
    {
     "data": {
      "text/plain": [
       "[1, 2, 3, 4, 5, 6, 7, 8, 9, 10, 11, 12, 13, 14, 15]"
      ]
     },
     "execution_count": 37,
     "metadata": {},
     "output_type": "execute_result"
    }
   ],
   "source": [
    "numbers = list(range(1,16)) # we can also do it in using traditional append\n",
    "numbers"
   ]
  },
  {
   "cell_type": "code",
   "execution_count": 7,
   "metadata": {},
   "outputs": [
    {
     "data": {
      "text/plain": [
       "[2, 4, 6, 8, 10, 12, 14]"
      ]
     },
     "execution_count": 7,
     "metadata": {},
     "output_type": "execute_result"
    }
   ],
   "source": [
    "even_numbers = numbers[1:len(numbers):2]\n",
    "even_numbers"
   ]
  },
  {
   "cell_type": "code",
   "execution_count": 38,
   "metadata": {},
   "outputs": [
    {
     "data": {
      "text/plain": [
       "[1, 2, 3, 4, 5, 11, 12, 13, 14, 15]"
      ]
     },
     "execution_count": 38,
     "metadata": {},
     "output_type": "execute_result"
    }
   ],
   "source": [
    "numbers[5:10] = [] * len(numbers[5:10])\n",
    "numbers"
   ]
  },
  {
   "cell_type": "code",
   "execution_count": 39,
   "metadata": {},
   "outputs": [
    {
     "data": {
      "text/plain": [
       "[1, 2, 3, 4, 5]"
      ]
     },
     "execution_count": 39,
     "metadata": {},
     "output_type": "execute_result"
    }
   ],
   "source": [
    "numbers[5:] = []\n",
    "numbers"
   ]
  },
  {
   "cell_type": "code",
   "execution_count": 10,
   "metadata": {},
   "outputs": [
    {
     "data": {
      "text/plain": [
       "[]"
      ]
     },
     "execution_count": 10,
     "metadata": {},
     "output_type": "execute_result"
    }
   ],
   "source": [
    "numbers[:] = []\n",
    "numbers"
   ]
  },
  {
   "cell_type": "markdown",
   "metadata": {},
   "source": [
    "## Remove elements using del keyword"
   ]
  },
  {
   "cell_type": "code",
   "execution_count": 11,
   "metadata": {},
   "outputs": [
    {
     "name": "stdout",
     "output_type": "stream",
     "text": [
      "[0, 1, 2, 3, 4, 5, 6, 7, 8, 9]\n",
      "[5, 6, 7, 8, 9]\n",
      "[6, 8]\n"
     ]
    }
   ],
   "source": [
    "numbers = list(range(10))\n",
    "print(numbers)\n",
    "\n",
    "del numbers[0:5]\n",
    "print(numbers)\n",
    "\n",
    "del numbers[::2]\n",
    "print(numbers)"
   ]
  },
  {
   "cell_type": "markdown",
   "metadata": {},
   "source": [
    "## Sort Elements"
   ]
  },
  {
   "cell_type": "code",
   "execution_count": 35,
   "metadata": {},
   "outputs": [
    {
     "name": "stdout",
     "output_type": "stream",
     "text": [
      "None\n",
      "['Bacon', 'Cookies', 'Grapes', 'apple', 'pizza', 'steak']\n",
      "['steak', 'pizza', 'apple', 'Grapes', 'Cookies', 'Bacon']\n",
      "['Bacon', 'Cookies', 'Grapes', 'apple', 'pizza', 'steak']\n",
      "['steak', 'pizza', 'apple', 'Grapes', 'Cookies', 'Bacon']\n"
     ]
    }
   ],
   "source": [
    "alphabets_list = ['Cookies','pizza','Grapes','apple','steak','Bacon']\n",
    "print(alphabets_list)\n",
    "alphabets_list.sort(reverse=True)\n",
    "print(alphabets_list)\n",
    "print(sorted(alphabets_list))\n",
    "print(sorted(alphabets_list, reverse=True))"
   ]
  },
  {
   "cell_type": "markdown",
   "metadata": {},
   "source": [
    "## Using sorted Method"
   ]
  },
  {
   "cell_type": "code",
   "execution_count": 13,
   "metadata": {},
   "outputs": [
    {
     "name": "stdout",
     "output_type": "stream",
     "text": [
      "['Bacon', 'Cookies', 'Grapes', 'apple', 'pizza', 'steak']\n",
      "['steak', 'pizza', 'apple', 'Grapes', 'Cookies', 'Bacon']\n"
     ]
    }
   ],
   "source": [
    "alphabets_list = ['Cookies','pizza','Grapes','apple','steak','Bacon']\n",
    "new_aplhabets_list = sorted(alphabets_list)\n",
    "print(new_aplhabets_list)\n",
    "reverse_aplhabets_list = sorted(alphabets_list, reverse=True)\n",
    "print(reverse_aplhabets_list)\n"
   ]
  },
  {
   "cell_type": "code",
   "execution_count": 14,
   "metadata": {},
   "outputs": [
    {
     "name": "stdout",
     "output_type": "stream",
     "text": [
      "Found 43 at 3\n",
      "44 not found\n"
     ]
    }
   ],
   "source": [
    "list_numbers = [67, 12, 46, 43, 13]\n",
    "\n",
    "keys = [43,44]\n",
    "for key in keys:\n",
    "    if key in list_numbers:\n",
    "        print(f'Found {key} at {list_numbers.index(key)}')\n",
    "    else:\n",
    "        print(f'{key} not found')"
   ]
  },
  {
   "cell_type": "markdown",
   "metadata": {},
   "source": [
    "## Shallow Copy"
   ]
  },
  {
   "cell_type": "code",
   "execution_count": 15,
   "metadata": {},
   "outputs": [
    {
     "name": "stdout",
     "output_type": "stream",
     "text": [
      "4344446800\n",
      "4344452272\n",
      "[1, 2, 3]\n",
      "[7, 2, 3]\n"
     ]
    }
   ],
   "source": [
    "numbers = [ 1, 2, 3]\n",
    "numbers_2 = numbers.copy()\n",
    "\n",
    "print(id(numbers))\n",
    "print(id(numbers_2))\n",
    "\n",
    "numbers_2[0] = 7\n",
    "\n",
    "print(numbers)\n",
    "print(numbers_2)\n"
   ]
  },
  {
   "cell_type": "markdown",
   "metadata": {},
   "source": [
    "## List Methods "
   ]
  },
  {
   "cell_type": "code",
   "execution_count": 16,
   "metadata": {},
   "outputs": [
    {
     "name": "stdout",
     "output_type": "stream",
     "text": [
      "['green', 'orange', 'red', 'violet']\n",
      "['green', 'orange', 'red', 'violet', 'yellow']\n",
      "['yellow', 'violet', 'red', 'orange', 'green']\n",
      "['yellow', 'violet', 'red', 'green']\n",
      "Last Element : green\n",
      "['yellow', 'violet', 'red']\n"
     ]
    }
   ],
   "source": [
    "rainbow_list = ['green','orange','violet']\n",
    "index_violet = rainbow_list.index('violet')\n",
    "\n",
    "rainbow_list.insert(index_violet,'red')\n",
    "print(rainbow_list)\n",
    "\n",
    "rainbow_list.append('yellow')\n",
    "print(rainbow_list)\n",
    "\n",
    "rainbow_list.reverse()\n",
    "print(rainbow_list)\n",
    "\n",
    "rainbow_list.remove('orange')\n",
    "print(rainbow_list)\n",
    "\n",
    "print(f'Last Element : {rainbow_list.pop()}')\n",
    "print(rainbow_list)\n"
   ]
  },
  {
   "cell_type": "markdown",
   "metadata": {},
   "source": [
    "## List Comprehension"
   ]
  },
  {
   "cell_type": "code",
   "execution_count": 17,
   "metadata": {},
   "outputs": [
    {
     "name": "stdout",
     "output_type": "stream",
     "text": [
      "[(1, 1), (2, 8), (3, 27), (4, 64), (5, 125)]\n",
      "[3, 6, 9, 12, 15, 18, 21, 24, 27]\n"
     ]
    }
   ],
   "source": [
    "list_tuples = [(item, item ** 3) for item in range(1,6)]\n",
    "print(list_tuples)\n",
    "\n",
    "list_tuples_2 = [item * 3 for item in range(1, 12) if item * 3 < 30]\n",
    "print(list_tuples_2)"
   ]
  },
  {
   "cell_type": "markdown",
   "metadata": {},
   "source": [
    "## Generator Expression "
   ]
  },
  {
   "cell_type": "code",
   "execution_count": 18,
   "metadata": {},
   "outputs": [
    {
     "name": "stdout",
     "output_type": "stream",
     "text": [
      "[1000, 64, 8]\n"
     ]
    }
   ],
   "source": [
    "list_numbers = [ 10, 3, 7, 1, 9, 4, 2]\n",
    "result = []\n",
    "\n",
    "for value in (item ** 3 for item in list_numbers if item %2 == 0):\n",
    "    result.append(value)\n",
    "    \n",
    "print(result)"
   ]
  },
  {
   "cell_type": "markdown",
   "metadata": {},
   "source": [
    "## Lambda"
   ]
  },
  {
   "cell_type": "code",
   "execution_count": 19,
   "metadata": {},
   "outputs": [
    {
     "name": "stdout",
     "output_type": "stream",
     "text": [
      "[1, 2, 3, 4, 5, 6, 7, 8, 9, 10, 11, 12, 13, 14, 15]\n",
      "Method 1-[2, 4, 6, 8, 10, 12, 14]\n",
      "Method 2-[2, 4, 6, 8, 10, 12, 14]\n",
      "Method 1-[1, 4, 9, 16, 25, 36, 49, 64, 81, 100, 121, 144, 169, 196, 225]\n",
      "Method 2-[1, 4, 9, 16, 25, 36, 49, 64, 81, 100, 121, 144, 169, 196, 225]\n",
      "[4, 16, 36, 64, 100, 144, 196]\n",
      "[(41, 5.0), (32, 0.0), (212, 100.0)]\n"
     ]
    }
   ],
   "source": [
    "list_numbers = list(range(1,16))\n",
    "print(list_numbers)\n",
    "\n",
    "filter(lambda x: x % 2 == 0, list_numbers)\n",
    "print()\n",
    "\n",
    "\n",
    "list_even_method_1 = [value for value in list_numbers if value %2 == 0]\n",
    "list_even_method_2 = list(filter(lambda x: x % 2 == 0, list_numbers))\n",
    "print('Method 1', list_even_method_1, sep='-')\n",
    "print('Method 2',list_even_method_2, sep='-')\n",
    "\n",
    "list_squares_method_1 = [value ** 2 for value in list_numbers]\n",
    "list_squares_method_2 = list(map(lambda x: x**2, list_numbers))\n",
    "print('Method 1',list_squares_method_1, sep='-')\n",
    "print('Method 2',list_squares_method_2, sep='-')\n",
    "\n",
    "result = list(map(lambda x: x**2, filter(lambda x: x % 2 == 0, list_numbers)))\n",
    "print(result)\n",
    "\n",
    "\n",
    "fahrenheit = [41, 32, 212]\n",
    "list_of_tuple = list(map(lambda x: (x, (x-32)*5/9), fahrenheit))\n",
    "print(list_of_tuple)"
   ]
  },
  {
   "cell_type": "markdown",
   "metadata": {},
   "source": [
    "## MIN/MAX functions with keys"
   ]
  },
  {
   "cell_type": "code",
   "execution_count": 20,
   "metadata": {},
   "outputs": [
    {
     "name": "stdout",
     "output_type": "stream",
     "text": [
      "Bombay\n",
      "bengaluru\n"
     ]
    }
   ],
   "source": [
    "names = ['Yellow', 'Bombay','Delhi','bengaluru']\n",
    "print(min(names))\n",
    "print(min(names, key=lambda s: s.lower()))"
   ]
  },
  {
   "cell_type": "markdown",
   "metadata": {},
   "source": [
    "# Zip"
   ]
  },
  {
   "cell_type": "code",
   "execution_count": 21,
   "metadata": {},
   "outputs": [
    {
     "name": "stdout",
     "output_type": "stream",
     "text": [
      "[11, 22, 33]\n"
     ]
    }
   ],
   "source": [
    "zipped_list = [a+b for a, b in zip([10,20,30],[1,2,3])]\n",
    "print(zipped_list)"
   ]
  },
  {
   "cell_type": "markdown",
   "metadata": {},
   "source": [
    "## 2D Lists"
   ]
  },
  {
   "cell_type": "code",
   "execution_count": 22,
   "metadata": {},
   "outputs": [
    {
     "name": "stdout",
     "output_type": "stream",
     "text": [
      "10.17\n",
      "10.17\n"
     ]
    }
   ],
   "source": [
    "lists_check = [[10,7,3],[20,4,17]]\n",
    "total_elements = 0\n",
    "total_sum = 0\n",
    "\n",
    "for row in lists_check:\n",
    "    for item in row:\n",
    "        total_sum += item\n",
    "        total_elements += 1\n",
    "average = total_sum/total_elements\n",
    "print(f'{average:.2f}')\n",
    "\n",
    "##Using Reducer functions\n",
    "total_elements = 0\n",
    "total_sum = 0\n",
    "for item in lists_check:\n",
    "    total_elements += len(item)\n",
    "    total_sum += sum(item)\n",
    "average = total_sum/total_elements\n",
    "print(f'{average:.2f}')"
   ]
  },
  {
   "cell_type": "markdown",
   "metadata": {},
   "source": [
    "## Subset and SuperSet checking "
   ]
  },
  {
   "cell_type": "code",
   "execution_count": 23,
   "metadata": {},
   "outputs": [
    {
     "name": "stdout",
     "output_type": "stream",
     "text": [
      "True\n",
      "False\n",
      "False\n",
      "True\n"
     ]
    }
   ],
   "source": [
    "print([1,3,4] < [1,3,4,2])\n",
    "print([1,3,4] < [1,3,2,2])\n",
    "print([1,3,4] < [1,3,4])\n",
    "print([1,3,4] <= [1,3,4])\n",
    "#Opposite of above for superset"
   ]
  },
  {
   "cell_type": "code",
   "execution_count": null,
   "metadata": {},
   "outputs": [],
   "source": []
  }
 ],
 "metadata": {
  "kernelspec": {
   "display_name": "Python 3",
   "language": "python",
   "name": "python3"
  },
  "language_info": {
   "codemirror_mode": {
    "name": "ipython",
    "version": 3
   },
   "file_extension": ".py",
   "mimetype": "text/x-python",
   "name": "python",
   "nbconvert_exporter": "python",
   "pygments_lexer": "ipython3",
   "version": "3.7.6"
  }
 },
 "nbformat": 4,
 "nbformat_minor": 4
}
