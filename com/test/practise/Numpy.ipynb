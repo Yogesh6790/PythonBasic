{
 "cells": [
  {
   "cell_type": "code",
   "execution_count": 212,
   "metadata": {},
   "outputs": [],
   "source": [
    "import numpy as np"
   ]
  },
  {
   "cell_type": "markdown",
   "metadata": {},
   "source": [
    "## 1. Numpy Methods "
   ]
  },
  {
   "cell_type": "code",
   "execution_count": 252,
   "metadata": {},
   "outputs": [
    {
     "name": "stdout",
     "output_type": "stream",
     "text": [
      "[ 2  4  6  8 10 12 14 16 18 20]\n",
      "[[ 2  4  6  8 10]\n",
      " [ 1  3  5  7  9]]\n",
      "[ 2  4  6  8 10 12 14 16 18 20]\n",
      "[[ 2  4  6  8 10]\n",
      " [12 14 16 18 20]]\n",
      "[ 2.  4.  6.  8. 10. 12. 14. 16. 18. 20.]\n",
      "[22 22 22 22 22 22]\n",
      "[79 90 91 97 84 86 84 91 84 82 85 60]\n",
      "[5 6 7]\n",
      "[ 4  8 12]\n",
      "[2. 3. 4.]\n",
      "power [ 1  8 27]\n",
      "[[ 2  4  6]\n",
      " [ 8 10 12]]\n",
      "check True\n",
      "check -> [[ 4  8 12]\n",
      " [16 20 24]]\n",
      "concatenate\n",
      "[1 2 1 2]\n",
      "[1 2 1 2]\n",
      "[[1 2]\n",
      " [1 2]]\n",
      "[[ 2  4  6]\n",
      " [ 8 10 12]\n",
      " [ 2  4  6]\n",
      " [ 8 10 12]]\n",
      "12\n",
      "[[ 2  4  6  2  4  6]\n",
      " [ 8 10 12  8 10 12]]\n",
      "[1 2 1 2]\n",
      "[[ 2  4  6]\n",
      " [ 8 10 12]\n",
      " [ 2  4  6]\n",
      " [ 8 10 12]]\n",
      "[ 2  4  6  8 10 12]\n",
      "[array([2, 4]), array([6, 8]), array([10, 12])]\n",
      "[ 6  4  2  8 10 12]\n",
      "(array([3]),)\n",
      "[ 2  4  6  8 10 12]\n"
     ]
    }
   ],
   "source": [
    "array_1 = np.arange(2,13,2).reshape(2,3)\n",
    "print(np.array(list(range(2,21,2))))\n",
    "print(np.array([[item for item in range(2,11,2)],[item for item in range(1,10,2)]]))\n",
    "print(np.arange(2,21,2))\n",
    "print(np.arange(2,21,2).reshape(2,5))\n",
    "print(np.linspace(2,20,10))\n",
    "print(np.full(6, 22))\n",
    "print(np.random.randint(60,101, 12))\n",
    "print(np.add(np.array([1,2,3]),4))\n",
    "print(np.multiply(np.array([1,2,3]),4))\n",
    "print(np.sqrt(np.array([4,9,16])))\n",
    "print('power',np.power(np.array([1,2,3]),3))\n",
    "print(array_1)\n",
    "print('check',2 in array_1)\n",
    "print('check ->', array_1 + array_1)\n",
    "print('concatenate')\n",
    "print(np.concatenate(([1,2], [1,2])))\n",
    "print(np.hstack(([1,2], [1,2])))\n",
    "print(np.vstack(([1,2], [1,2])))\n",
    "new_arr = np.concatenate((array_1, array_1))\n",
    "print(new_arr)\n",
    "print(new_arr[3,2]) #1. Concatenate\n",
    "print(np.hstack((array_1, array_1)))\n",
    "print(np.hstack(([1,2], [1,2])))\n",
    "print(np.vstack((array_1, array_1)))\n",
    "print(array_1.flatten())\n",
    "print(np.array_split(array_1.flatten(), 3)) #2. array_plit\n",
    "array_2 = np.arange(2,13,2)\n",
    "array_2[0],array_2[2] = array_2[2], array_2[0]\n",
    "print(array_2)\n",
    "print(np.where(array_2==8)) #3. Search\n",
    "print(np.sort(array_2)) #4. Sort"
   ]
  },
  {
   "cell_type": "markdown",
   "metadata": {},
   "source": [
    "# array attributes"
   ]
  },
  {
   "cell_type": "code",
   "execution_count": 253,
   "metadata": {},
   "outputs": [
    {
     "name": "stdout",
     "output_type": "stream",
     "text": [
      "[[ 2  4  6  8 10]\n",
      " [12 14 16 18 20]\n",
      " [22 24 26 28 30]\n",
      " [32 34 36 38 40]]\n",
      "[[ 4  8 12 16 20]\n",
      " [24 28 32 36 40]\n",
      " [44 48 52 56 60]\n",
      " [64 68 72 76 80]]\n",
      "int64\n",
      "[[ 2.  4.  6.  8. 10.]\n",
      " [12. 14. 16. 18. 20.]\n",
      " [22. 24. 26. 28. 30.]\n",
      " [32. 34. 36. 38. 40.]]\n",
      "2\n",
      "20\n",
      "(4, 5)\n",
      "<numpy.flatiter object at 0x7fefa2cb1200>\n",
      "420\n",
      "2\n",
      "40\n",
      "11.532562594670797\n",
      "21.0\n",
      "133.0\n",
      "[17. 19. 21. 23. 25.]\n",
      "[ 6. 16. 26. 36.]\n",
      "[[ 2  4  6  8 10]\n",
      " [12 14 16 18 20]\n",
      " [22 24 26 28 30]\n",
      " [32 34 36 38 40]]\n",
      "[[ 2  4  6  8 10 12 14 16 18 20 22 24 26 28 30 32 34 36 38 40]]\n",
      "[ 3  4  6  8 10 12 14 16 18 20 22 24 26 28 30 32 34 36 38 40]\n",
      "[ 3  4  6  8 10 12 14 16 18 20 22 24 26 28 30 32 34 36 38 40]\n",
      "[[ 3]\n",
      " [ 4]\n",
      " [ 6]\n",
      " [ 8]\n",
      " [10]\n",
      " [12]\n",
      " [14]\n",
      " [16]\n",
      " [18]\n",
      " [20]\n",
      " [22]\n",
      " [24]\n",
      " [26]\n",
      " [28]\n",
      " [30]\n",
      " [32]\n",
      " [34]\n",
      " [36]\n",
      " [38]\n",
      " [40]]\n",
      "[[ 3  4  6  8 10 12 14 16 18 20 22 24 26 28 30 32 34 36 38 40]]\n"
     ]
    }
   ],
   "source": [
    "array_1 = np.arange(2,41,2).reshape(4,5)\n",
    "print(array_1)\n",
    "print(array_1 + array_1)\n",
    "print(array_1.dtype) #specifies type of elements in array\n",
    "array_2 = array_1.astype(float)\n",
    "print(array_2)\n",
    "print(array_1.ndim)\n",
    "print(array_1.size)\n",
    "print(array_1.shape)\n",
    "print(array_1.flat)\n",
    "print(array_1.sum())\n",
    "print(array_1.min())\n",
    "print(array_1.max())\n",
    "print(array_1.std())\n",
    "print(array_1.mean())\n",
    "print(array_1.var())\n",
    "print(array_1.mean(axis=0))\n",
    "print(array_1.mean(axis=1))\n",
    "array_1.reshape(2,10)\n",
    "print(array_1)\n",
    "array_1.resize(1,20) # => array_1 = array_1.reshape(4,5)\n",
    "print(array_1)\n",
    "flattened = array_1.flatten()\n",
    "raveled = array_1.ravel()\n",
    "raveled[0] = 3\n",
    "print(array_1.flatten()) # new copy\n",
    "print(array_1.ravel()) # has reference\n",
    "print(array_1.T)\n",
    "print(array_1.copy()) # performs deep copy"
   ]
  },
  {
   "cell_type": "markdown",
   "metadata": {},
   "source": [
    "## 2.Calculation Methods(array) and Universal Functions(Numpy) - Index Based"
   ]
  },
  {
   "cell_type": "code",
   "execution_count": 139,
   "metadata": {},
   "outputs": [
    {
     "name": "stdout",
     "output_type": "stream",
     "text": [
      "multiply [3 6 9]\n",
      "multiply [3 6 9]\n",
      "add [5 6 7]\n",
      "add [5 6 7]\n",
      "power [1 4 9]\n",
      "power [1 4 9]\n",
      "sqrt [2. 3. 4.]\n",
      "sqrt [2. 3. 4.]\n",
      "[3 6 9]\n",
      "[ True  True  True]\n"
     ]
    }
   ],
   "source": [
    "grades = np.array([1,2,3])\n",
    "grades_2 = np.array([2,4,6])\n",
    "grades_3 = np.array([4,9,16])\n",
    "print('multiply',grades * 3)\n",
    "print('multiply',np.multiply(grades, 3)) # Universal function\n",
    "print('add',grades + 4)\n",
    "print('add',np.add(grades, 4)) # Universal function\n",
    "print('power',np.power(grades, 2))\n",
    "print('power',grades ** 2) # Universal function\n",
    "print('sqrt', grades_3 ** (1/2))\n",
    "print('sqrt', np.sqrt(grades_3)) # Universal funtion\n",
    "print(grades + grades_2)\n",
    "print(grades < grades_2) # comparison"
   ]
  },
  {
   "cell_type": "markdown",
   "metadata": {},
   "source": [
    "## Array Indexing and Slicing"
   ]
  },
  {
   "cell_type": "code",
   "execution_count": 69,
   "metadata": {},
   "outputs": [
    {
     "name": "stdout",
     "output_type": "stream",
     "text": [
      "[[ 2  4  6  8 10]\n",
      " [12 14 16 18 20]\n",
      " [22 24 26 28 30]\n",
      " [32 34 36 38 40]]\n",
      "28\n",
      "[[12 14 16 18 20]\n",
      " [22 24 26 28 30]\n",
      " [32 34 36 38 40]]\n",
      "[[12 14 16 18 20]\n",
      " [32 34 36 38 40]]\n",
      "[[ 4  8]\n",
      " [14 18]\n",
      " [24 28]\n",
      " [34 38]]\n",
      "[[ 4  6]\n",
      " [14 16]\n",
      " [24 26]\n",
      " [34 36]]\n"
     ]
    }
   ],
   "source": [
    "array = np.arange(2,41,2).reshape(4,5)\n",
    "print(array)\n",
    "print(array[2,3])\n",
    "print(array[1:4])\n",
    "print(array[[1,3]])\n",
    "print(array[:,[1,3]])\n",
    "print(array[:,1:3])"
   ]
  },
  {
   "cell_type": "markdown",
   "metadata": {},
   "source": [
    "## Iterate Array"
   ]
  },
  {
   "cell_type": "code",
   "execution_count": 111,
   "metadata": {},
   "outputs": [
    {
     "name": "stdout",
     "output_type": "stream",
     "text": [
      "(0, 0) 2\n",
      "(0, 1) 4\n",
      "(0, 2) 6\n",
      "(0, 3) 8\n",
      "(0, 4) 10\n",
      "(1, 0) 12\n",
      "(1, 1) 14\n",
      "(1, 2) 16\n",
      "(1, 3) 18\n",
      "(1, 4) 20\n",
      "(2, 0) 22\n",
      "(2, 1) 24\n",
      "(2, 2) 26\n",
      "(2, 3) 28\n",
      "(2, 4) 30\n",
      "(3, 0) 32\n",
      "(3, 1) 34\n",
      "(3, 2) 36\n",
      "(3, 3) 38\n",
      "(3, 4) 40\n"
     ]
    }
   ],
   "source": [
    "array = np.arange(2,41,2).reshape(4,5)\n",
    "\n",
    "for idx, x in np.ndenumerate(array):\n",
    "    print(idx, x)"
   ]
  }
 ],
 "metadata": {
  "kernelspec": {
   "display_name": "Python 3",
   "language": "python",
   "name": "python3"
  },
  "language_info": {
   "codemirror_mode": {
    "name": "ipython",
    "version": 3
   },
   "file_extension": ".py",
   "mimetype": "text/x-python",
   "name": "python",
   "nbconvert_exporter": "python",
   "pygments_lexer": "ipython3",
   "version": "3.7.6"
  }
 },
 "nbformat": 4,
 "nbformat_minor": 4
}
